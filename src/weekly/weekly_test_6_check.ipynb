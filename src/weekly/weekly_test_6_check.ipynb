{
 "cells": [
  {
   "cell_type": "code",
   "execution_count": 4,
   "id": "initial_id",
   "metadata": {
    "collapsed": true,
    "ExecuteTime": {
     "end_time": "2023-10-25T17:27:30.405665200Z",
     "start_time": "2023-10-25T17:27:24.798846800Z"
    }
   },
   "outputs": [
    {
     "name": "stdout",
     "output_type": "stream",
     "text": [
      "Collecting fastparquet\n",
      "  Downloading fastparquet-2023.8.0-cp310-cp310-win_amd64.whl (715 kB)\n",
      "     -------------------------------------- 715.2/715.2 kB 6.5 MB/s eta 0:00:00\n",
      "Requirement already satisfied: packaging in c:\\users\\user\\documents\\github\\ecopy_23241\\venv\\lib\\site-packages (from fastparquet) (23.1)\n",
      "Requirement already satisfied: pandas>=1.5.0 in c:\\users\\user\\documents\\github\\ecopy_23241\\venv\\lib\\site-packages (from fastparquet) (2.1.0)\n",
      "Collecting cramjam>=2.3\n",
      "  Downloading cramjam-2.7.0-cp310-none-win_amd64.whl (1.3 MB)\n",
      "     ---------------------------------------- 1.3/1.3 MB 12.2 MB/s eta 0:00:00\n",
      "Collecting fsspec\n",
      "  Downloading fsspec-2023.10.0-py3-none-any.whl (166 kB)\n",
      "     -------------------------------------- 166.4/166.4 kB 9.8 MB/s eta 0:00:00\n",
      "Requirement already satisfied: numpy>=1.20.3 in c:\\users\\user\\documents\\github\\ecopy_23241\\venv\\lib\\site-packages (from fastparquet) (1.25.2)\n",
      "Requirement already satisfied: python-dateutil>=2.8.2 in c:\\users\\user\\documents\\github\\ecopy_23241\\venv\\lib\\site-packages (from pandas>=1.5.0->fastparquet) (2.8.2)\n",
      "Requirement already satisfied: pytz>=2020.1 in c:\\users\\user\\documents\\github\\ecopy_23241\\venv\\lib\\site-packages (from pandas>=1.5.0->fastparquet) (2023.3.post1)\n",
      "Requirement already satisfied: tzdata>=2022.1 in c:\\users\\user\\documents\\github\\ecopy_23241\\venv\\lib\\site-packages (from pandas>=1.5.0->fastparquet) (2023.3)\n",
      "Requirement already satisfied: six>=1.5 in c:\\users\\user\\documents\\github\\ecopy_23241\\venv\\lib\\site-packages (from python-dateutil>=2.8.2->pandas>=1.5.0->fastparquet) (1.16.0)\n",
      "Installing collected packages: fsspec, cramjam, fastparquet\n",
      "Successfully installed cramjam-2.7.0 fastparquet-2023.8.0 fsspec-2023.10.0\n"
     ]
    },
    {
     "name": "stderr",
     "output_type": "stream",
     "text": [
      "\n",
      "[notice] A new release of pip available: 22.3.1 -> 23.3.1\n",
      "[notice] To update, run: python.exe -m pip install --upgrade pip\n"
     ]
    }
   ],
   "source": [
    "import pandas as pd\n",
    "! pip install fastparquet\n",
    "\n",
    "sp_500_df = pd.read_parquet(\"C:/Users/User\\Documents\\GitHub\\ECOPY_23241\\data\\sp500.parquet\", engine='fastparquet')"
   ]
  },
  {
   "cell_type": "code",
   "execution_count": 5,
   "outputs": [
    {
     "data": {
      "text/plain": "           Symbol  Monthly Returns\nDate                              \n2000-02-29      A         0.569405\n2000-03-31      A         0.001203\n2000-05-31      A        -0.169252\n2000-06-30      A         0.001698\n2000-07-31      A        -0.447458\n...           ...              ...\n2022-06-30    ZTS         0.005616\n2022-08-31    ZTS        -0.142536\n2022-09-30    ZTS        -0.052642\n2022-10-31    ZTS         0.018952\n2022-11-30    ZTS         0.022284\n\n[86611 rows x 2 columns]",
      "text/html": "<div>\n<style scoped>\n    .dataframe tbody tr th:only-of-type {\n        vertical-align: middle;\n    }\n\n    .dataframe tbody tr th {\n        vertical-align: top;\n    }\n\n    .dataframe thead th {\n        text-align: right;\n    }\n</style>\n<table border=\"1\" class=\"dataframe\">\n  <thead>\n    <tr style=\"text-align: right;\">\n      <th></th>\n      <th>Symbol</th>\n      <th>Monthly Returns</th>\n    </tr>\n    <tr>\n      <th>Date</th>\n      <th></th>\n      <th></th>\n    </tr>\n  </thead>\n  <tbody>\n    <tr>\n      <th>2000-02-29</th>\n      <td>A</td>\n      <td>0.569405</td>\n    </tr>\n    <tr>\n      <th>2000-03-31</th>\n      <td>A</td>\n      <td>0.001203</td>\n    </tr>\n    <tr>\n      <th>2000-05-31</th>\n      <td>A</td>\n      <td>-0.169252</td>\n    </tr>\n    <tr>\n      <th>2000-06-30</th>\n      <td>A</td>\n      <td>0.001698</td>\n    </tr>\n    <tr>\n      <th>2000-07-31</th>\n      <td>A</td>\n      <td>-0.447458</td>\n    </tr>\n    <tr>\n      <th>...</th>\n      <td>...</td>\n      <td>...</td>\n    </tr>\n    <tr>\n      <th>2022-06-30</th>\n      <td>ZTS</td>\n      <td>0.005616</td>\n    </tr>\n    <tr>\n      <th>2022-08-31</th>\n      <td>ZTS</td>\n      <td>-0.142536</td>\n    </tr>\n    <tr>\n      <th>2022-09-30</th>\n      <td>ZTS</td>\n      <td>-0.052642</td>\n    </tr>\n    <tr>\n      <th>2022-10-31</th>\n      <td>ZTS</td>\n      <td>0.018952</td>\n    </tr>\n    <tr>\n      <th>2022-11-30</th>\n      <td>ZTS</td>\n      <td>0.022284</td>\n    </tr>\n  </tbody>\n</table>\n<p>86611 rows × 2 columns</p>\n</div>"
     },
     "execution_count": 5,
     "metadata": {},
     "output_type": "execute_result"
    }
   ],
   "source": [
    "sp_500_df"
   ],
   "metadata": {
    "collapsed": false,
    "ExecuteTime": {
     "end_time": "2023-10-25T17:27:42.827057Z",
     "start_time": "2023-10-25T17:27:42.650340300Z"
    }
   },
   "id": "5bad7e9308d52371"
  },
  {
   "cell_type": "code",
   "execution_count": 7,
   "outputs": [],
   "source": [
    "ff_factors_df = pd.read_parquet(\"C:/Users/User\\Documents\\GitHub\\ECOPY_23241\\data/ff_factors.parquet\", engine='fastparquet')"
   ],
   "metadata": {
    "collapsed": false,
    "ExecuteTime": {
     "end_time": "2023-10-25T17:30:02.405139100Z",
     "start_time": "2023-10-25T17:30:02.388507600Z"
    }
   },
   "id": "dfa4e1de20fd9e48"
  },
  {
   "cell_type": "code",
   "execution_count": 8,
   "outputs": [
    {
     "data": {
      "text/plain": "            Mkt-RF     SMB     HML     RF\nDate                                     \n1926-07-31  0.0296 -0.0256 -0.0243  0.022\n1926-08-31  0.0264 -0.0117  0.0382  0.025\n1926-09-30  0.0036 -0.0140  0.0013  0.023\n1926-10-31 -0.0324 -0.0009  0.0070  0.032\n1926-11-30  0.0253 -0.0010 -0.0051  0.031\n...            ...     ...     ...    ...\n2023-03-31  0.0251 -0.0551 -0.0885  0.036\n2023-04-30  0.0061 -0.0335 -0.0004  0.035\n2023-05-31  0.0035  0.0161 -0.0772  0.036\n2023-06-30  0.0646  0.0154 -0.0026  0.040\n2023-07-31  0.0321  0.0207  0.0413  0.045\n\n[1165 rows x 4 columns]",
      "text/html": "<div>\n<style scoped>\n    .dataframe tbody tr th:only-of-type {\n        vertical-align: middle;\n    }\n\n    .dataframe tbody tr th {\n        vertical-align: top;\n    }\n\n    .dataframe thead th {\n        text-align: right;\n    }\n</style>\n<table border=\"1\" class=\"dataframe\">\n  <thead>\n    <tr style=\"text-align: right;\">\n      <th></th>\n      <th>Mkt-RF</th>\n      <th>SMB</th>\n      <th>HML</th>\n      <th>RF</th>\n    </tr>\n    <tr>\n      <th>Date</th>\n      <th></th>\n      <th></th>\n      <th></th>\n      <th></th>\n    </tr>\n  </thead>\n  <tbody>\n    <tr>\n      <th>1926-07-31</th>\n      <td>0.0296</td>\n      <td>-0.0256</td>\n      <td>-0.0243</td>\n      <td>0.022</td>\n    </tr>\n    <tr>\n      <th>1926-08-31</th>\n      <td>0.0264</td>\n      <td>-0.0117</td>\n      <td>0.0382</td>\n      <td>0.025</td>\n    </tr>\n    <tr>\n      <th>1926-09-30</th>\n      <td>0.0036</td>\n      <td>-0.0140</td>\n      <td>0.0013</td>\n      <td>0.023</td>\n    </tr>\n    <tr>\n      <th>1926-10-31</th>\n      <td>-0.0324</td>\n      <td>-0.0009</td>\n      <td>0.0070</td>\n      <td>0.032</td>\n    </tr>\n    <tr>\n      <th>1926-11-30</th>\n      <td>0.0253</td>\n      <td>-0.0010</td>\n      <td>-0.0051</td>\n      <td>0.031</td>\n    </tr>\n    <tr>\n      <th>...</th>\n      <td>...</td>\n      <td>...</td>\n      <td>...</td>\n      <td>...</td>\n    </tr>\n    <tr>\n      <th>2023-03-31</th>\n      <td>0.0251</td>\n      <td>-0.0551</td>\n      <td>-0.0885</td>\n      <td>0.036</td>\n    </tr>\n    <tr>\n      <th>2023-04-30</th>\n      <td>0.0061</td>\n      <td>-0.0335</td>\n      <td>-0.0004</td>\n      <td>0.035</td>\n    </tr>\n    <tr>\n      <th>2023-05-31</th>\n      <td>0.0035</td>\n      <td>0.0161</td>\n      <td>-0.0772</td>\n      <td>0.036</td>\n    </tr>\n    <tr>\n      <th>2023-06-30</th>\n      <td>0.0646</td>\n      <td>0.0154</td>\n      <td>-0.0026</td>\n      <td>0.040</td>\n    </tr>\n    <tr>\n      <th>2023-07-31</th>\n      <td>0.0321</td>\n      <td>0.0207</td>\n      <td>0.0413</td>\n      <td>0.045</td>\n    </tr>\n  </tbody>\n</table>\n<p>1165 rows × 4 columns</p>\n</div>"
     },
     "execution_count": 8,
     "metadata": {},
     "output_type": "execute_result"
    }
   ],
   "source": [
    "ff_factors_df"
   ],
   "metadata": {
    "collapsed": false,
    "ExecuteTime": {
     "end_time": "2023-10-25T17:30:07.295083800Z",
     "start_time": "2023-10-25T17:30:07.263817900Z"
    }
   },
   "id": "76d44f52624a3217"
  },
  {
   "cell_type": "code",
   "execution_count": 9,
   "outputs": [],
   "source": [
    "merged_df = pd.merge(sp_500_df, ff_factors_df, on='Date', how='left')"
   ],
   "metadata": {
    "collapsed": false,
    "ExecuteTime": {
     "end_time": "2023-10-25T17:33:21.179960100Z",
     "start_time": "2023-10-25T17:33:21.133092500Z"
    }
   },
   "id": "d366702ca2f6d21f"
  },
  {
   "cell_type": "code",
   "execution_count": 10,
   "outputs": [
    {
     "data": {
      "text/plain": "           Symbol  Monthly Returns  Mkt-RF     SMB     HML     RF\nDate                                                             \n2000-02-29      A         0.569405  0.0245  0.2136 -0.0959  0.043\n2000-03-31      A         0.001203  0.0520 -0.1720  0.0813  0.047\n2000-05-31      A        -0.169252 -0.0442 -0.0605  0.0475  0.050\n2000-06-30      A         0.001698  0.0464  0.1284 -0.0842  0.040\n2000-07-31      A        -0.447458 -0.0251 -0.0307  0.0831  0.048\n...           ...              ...     ...     ...     ...    ...\n2022-06-30    ZTS         0.005616 -0.0843  0.0210 -0.0597  0.006\n2022-08-31    ZTS        -0.142536 -0.0377  0.0140  0.0029  0.019\n2022-09-30    ZTS        -0.052642 -0.0935 -0.0081  0.0005  0.019\n2022-10-31    ZTS         0.018952  0.0783  0.0006  0.0801  0.023\n2022-11-30    ZTS         0.022284  0.0460 -0.0352  0.0138  0.029\n\n[86611 rows x 6 columns]",
      "text/html": "<div>\n<style scoped>\n    .dataframe tbody tr th:only-of-type {\n        vertical-align: middle;\n    }\n\n    .dataframe tbody tr th {\n        vertical-align: top;\n    }\n\n    .dataframe thead th {\n        text-align: right;\n    }\n</style>\n<table border=\"1\" class=\"dataframe\">\n  <thead>\n    <tr style=\"text-align: right;\">\n      <th></th>\n      <th>Symbol</th>\n      <th>Monthly Returns</th>\n      <th>Mkt-RF</th>\n      <th>SMB</th>\n      <th>HML</th>\n      <th>RF</th>\n    </tr>\n    <tr>\n      <th>Date</th>\n      <th></th>\n      <th></th>\n      <th></th>\n      <th></th>\n      <th></th>\n      <th></th>\n    </tr>\n  </thead>\n  <tbody>\n    <tr>\n      <th>2000-02-29</th>\n      <td>A</td>\n      <td>0.569405</td>\n      <td>0.0245</td>\n      <td>0.2136</td>\n      <td>-0.0959</td>\n      <td>0.043</td>\n    </tr>\n    <tr>\n      <th>2000-03-31</th>\n      <td>A</td>\n      <td>0.001203</td>\n      <td>0.0520</td>\n      <td>-0.1720</td>\n      <td>0.0813</td>\n      <td>0.047</td>\n    </tr>\n    <tr>\n      <th>2000-05-31</th>\n      <td>A</td>\n      <td>-0.169252</td>\n      <td>-0.0442</td>\n      <td>-0.0605</td>\n      <td>0.0475</td>\n      <td>0.050</td>\n    </tr>\n    <tr>\n      <th>2000-06-30</th>\n      <td>A</td>\n      <td>0.001698</td>\n      <td>0.0464</td>\n      <td>0.1284</td>\n      <td>-0.0842</td>\n      <td>0.040</td>\n    </tr>\n    <tr>\n      <th>2000-07-31</th>\n      <td>A</td>\n      <td>-0.447458</td>\n      <td>-0.0251</td>\n      <td>-0.0307</td>\n      <td>0.0831</td>\n      <td>0.048</td>\n    </tr>\n    <tr>\n      <th>...</th>\n      <td>...</td>\n      <td>...</td>\n      <td>...</td>\n      <td>...</td>\n      <td>...</td>\n      <td>...</td>\n    </tr>\n    <tr>\n      <th>2022-06-30</th>\n      <td>ZTS</td>\n      <td>0.005616</td>\n      <td>-0.0843</td>\n      <td>0.0210</td>\n      <td>-0.0597</td>\n      <td>0.006</td>\n    </tr>\n    <tr>\n      <th>2022-08-31</th>\n      <td>ZTS</td>\n      <td>-0.142536</td>\n      <td>-0.0377</td>\n      <td>0.0140</td>\n      <td>0.0029</td>\n      <td>0.019</td>\n    </tr>\n    <tr>\n      <th>2022-09-30</th>\n      <td>ZTS</td>\n      <td>-0.052642</td>\n      <td>-0.0935</td>\n      <td>-0.0081</td>\n      <td>0.0005</td>\n      <td>0.019</td>\n    </tr>\n    <tr>\n      <th>2022-10-31</th>\n      <td>ZTS</td>\n      <td>0.018952</td>\n      <td>0.0783</td>\n      <td>0.0006</td>\n      <td>0.0801</td>\n      <td>0.023</td>\n    </tr>\n    <tr>\n      <th>2022-11-30</th>\n      <td>ZTS</td>\n      <td>0.022284</td>\n      <td>0.0460</td>\n      <td>-0.0352</td>\n      <td>0.0138</td>\n      <td>0.029</td>\n    </tr>\n  </tbody>\n</table>\n<p>86611 rows × 6 columns</p>\n</div>"
     },
     "execution_count": 10,
     "metadata": {},
     "output_type": "execute_result"
    }
   ],
   "source": [
    "merged_df"
   ],
   "metadata": {
    "collapsed": false,
    "ExecuteTime": {
     "end_time": "2023-10-25T17:33:26.707172500Z",
     "start_time": "2023-10-25T17:33:26.655234600Z"
    }
   },
   "id": "488985572bb6eff3"
  },
  {
   "cell_type": "code",
   "execution_count": 11,
   "outputs": [],
   "source": [
    "merged_df['Excess Return'] = merged_df['Monthly Returns'] - merged_df['Mkt-RF']"
   ],
   "metadata": {
    "collapsed": false,
    "ExecuteTime": {
     "end_time": "2023-10-25T17:37:13.389018900Z",
     "start_time": "2023-10-25T17:37:13.355610900Z"
    }
   },
   "id": "6e0b2b03721888a9"
  },
  {
   "cell_type": "code",
   "execution_count": 12,
   "outputs": [
    {
     "data": {
      "text/plain": "           Symbol  Monthly Returns  Mkt-RF     SMB     HML     RF  \\\nDate                                                                \n2000-02-29      A         0.569405  0.0245  0.2136 -0.0959  0.043   \n2000-03-31      A         0.001203  0.0520 -0.1720  0.0813  0.047   \n2000-05-31      A        -0.169252 -0.0442 -0.0605  0.0475  0.050   \n2000-06-30      A         0.001698  0.0464  0.1284 -0.0842  0.040   \n2000-07-31      A        -0.447458 -0.0251 -0.0307  0.0831  0.048   \n...           ...              ...     ...     ...     ...    ...   \n2022-06-30    ZTS         0.005616 -0.0843  0.0210 -0.0597  0.006   \n2022-08-31    ZTS        -0.142536 -0.0377  0.0140  0.0029  0.019   \n2022-09-30    ZTS        -0.052642 -0.0935 -0.0081  0.0005  0.019   \n2022-10-31    ZTS         0.018952  0.0783  0.0006  0.0801  0.023   \n2022-11-30    ZTS         0.022284  0.0460 -0.0352  0.0138  0.029   \n\n            Excess Return  \nDate                       \n2000-02-29       0.544905  \n2000-03-31      -0.050797  \n2000-05-31      -0.125052  \n2000-06-30      -0.044702  \n2000-07-31      -0.422358  \n...                   ...  \n2022-06-30       0.089916  \n2022-08-31      -0.104836  \n2022-09-30       0.040858  \n2022-10-31      -0.059348  \n2022-11-30      -0.023716  \n\n[86611 rows x 7 columns]",
      "text/html": "<div>\n<style scoped>\n    .dataframe tbody tr th:only-of-type {\n        vertical-align: middle;\n    }\n\n    .dataframe tbody tr th {\n        vertical-align: top;\n    }\n\n    .dataframe thead th {\n        text-align: right;\n    }\n</style>\n<table border=\"1\" class=\"dataframe\">\n  <thead>\n    <tr style=\"text-align: right;\">\n      <th></th>\n      <th>Symbol</th>\n      <th>Monthly Returns</th>\n      <th>Mkt-RF</th>\n      <th>SMB</th>\n      <th>HML</th>\n      <th>RF</th>\n      <th>Excess Return</th>\n    </tr>\n    <tr>\n      <th>Date</th>\n      <th></th>\n      <th></th>\n      <th></th>\n      <th></th>\n      <th></th>\n      <th></th>\n      <th></th>\n    </tr>\n  </thead>\n  <tbody>\n    <tr>\n      <th>2000-02-29</th>\n      <td>A</td>\n      <td>0.569405</td>\n      <td>0.0245</td>\n      <td>0.2136</td>\n      <td>-0.0959</td>\n      <td>0.043</td>\n      <td>0.544905</td>\n    </tr>\n    <tr>\n      <th>2000-03-31</th>\n      <td>A</td>\n      <td>0.001203</td>\n      <td>0.0520</td>\n      <td>-0.1720</td>\n      <td>0.0813</td>\n      <td>0.047</td>\n      <td>-0.050797</td>\n    </tr>\n    <tr>\n      <th>2000-05-31</th>\n      <td>A</td>\n      <td>-0.169252</td>\n      <td>-0.0442</td>\n      <td>-0.0605</td>\n      <td>0.0475</td>\n      <td>0.050</td>\n      <td>-0.125052</td>\n    </tr>\n    <tr>\n      <th>2000-06-30</th>\n      <td>A</td>\n      <td>0.001698</td>\n      <td>0.0464</td>\n      <td>0.1284</td>\n      <td>-0.0842</td>\n      <td>0.040</td>\n      <td>-0.044702</td>\n    </tr>\n    <tr>\n      <th>2000-07-31</th>\n      <td>A</td>\n      <td>-0.447458</td>\n      <td>-0.0251</td>\n      <td>-0.0307</td>\n      <td>0.0831</td>\n      <td>0.048</td>\n      <td>-0.422358</td>\n    </tr>\n    <tr>\n      <th>...</th>\n      <td>...</td>\n      <td>...</td>\n      <td>...</td>\n      <td>...</td>\n      <td>...</td>\n      <td>...</td>\n      <td>...</td>\n    </tr>\n    <tr>\n      <th>2022-06-30</th>\n      <td>ZTS</td>\n      <td>0.005616</td>\n      <td>-0.0843</td>\n      <td>0.0210</td>\n      <td>-0.0597</td>\n      <td>0.006</td>\n      <td>0.089916</td>\n    </tr>\n    <tr>\n      <th>2022-08-31</th>\n      <td>ZTS</td>\n      <td>-0.142536</td>\n      <td>-0.0377</td>\n      <td>0.0140</td>\n      <td>0.0029</td>\n      <td>0.019</td>\n      <td>-0.104836</td>\n    </tr>\n    <tr>\n      <th>2022-09-30</th>\n      <td>ZTS</td>\n      <td>-0.052642</td>\n      <td>-0.0935</td>\n      <td>-0.0081</td>\n      <td>0.0005</td>\n      <td>0.019</td>\n      <td>0.040858</td>\n    </tr>\n    <tr>\n      <th>2022-10-31</th>\n      <td>ZTS</td>\n      <td>0.018952</td>\n      <td>0.0783</td>\n      <td>0.0006</td>\n      <td>0.0801</td>\n      <td>0.023</td>\n      <td>-0.059348</td>\n    </tr>\n    <tr>\n      <th>2022-11-30</th>\n      <td>ZTS</td>\n      <td>0.022284</td>\n      <td>0.0460</td>\n      <td>-0.0352</td>\n      <td>0.0138</td>\n      <td>0.029</td>\n      <td>-0.023716</td>\n    </tr>\n  </tbody>\n</table>\n<p>86611 rows × 7 columns</p>\n</div>"
     },
     "execution_count": 12,
     "metadata": {},
     "output_type": "execute_result"
    }
   ],
   "source": [
    "merged_df"
   ],
   "metadata": {
    "collapsed": false,
    "ExecuteTime": {
     "end_time": "2023-10-25T17:37:20.908336400Z",
     "start_time": "2023-10-25T17:37:20.877072600Z"
    }
   },
   "id": "73b796986937cf70"
  },
  {
   "cell_type": "code",
   "execution_count": 13,
   "outputs": [],
   "source": [
    "sorted_df = merged_df.sort_values(by='Date')"
   ],
   "metadata": {
    "collapsed": false,
    "ExecuteTime": {
     "end_time": "2023-10-25T17:39:14.888041900Z",
     "start_time": "2023-10-25T17:39:14.825059700Z"
    }
   },
   "id": "2a1bbabf15f853c1"
  },
  {
   "cell_type": "code",
   "execution_count": 14,
   "outputs": [
    {
     "data": {
      "text/plain": "           Symbol  Monthly Returns  Mkt-RF     SMB     HML     RF  \\\nDate                                                                \n2000-01-31   CPRT        -0.987130 -0.0474  0.0577 -0.0188  0.041   \n2000-01-31    LNT        -0.988305 -0.0474  0.0577 -0.0188  0.041   \n2000-01-31   BKNG         6.844284 -0.0474  0.0577 -0.0188  0.041   \n2000-01-31    SPG        -0.889351 -0.0474  0.0577 -0.0188  0.041   \n2000-01-31    LMT        -0.971967 -0.0474  0.0577 -0.0188  0.041   \n...           ...              ...     ...     ...     ...    ...   \n2022-11-30   SNPS         0.160622  0.0460 -0.0352  0.0138  0.029   \n2022-11-30     GL         0.038435  0.0460 -0.0352  0.0138  0.029   \n2022-11-30   ALLE         0.084757  0.0460 -0.0352  0.0138  0.029   \n2022-11-30    GLW         0.069552  0.0460 -0.0352  0.0138  0.029   \n2022-11-30    ZTS         0.022284  0.0460 -0.0352  0.0138  0.029   \n\n            Excess Return  \nDate                       \n2000-01-31      -0.939730  \n2000-01-31      -0.940905  \n2000-01-31       6.891684  \n2000-01-31      -0.841951  \n2000-01-31      -0.924567  \n...                   ...  \n2022-11-30       0.114622  \n2022-11-30      -0.007565  \n2022-11-30       0.038757  \n2022-11-30       0.023552  \n2022-11-30      -0.023716  \n\n[86611 rows x 7 columns]",
      "text/html": "<div>\n<style scoped>\n    .dataframe tbody tr th:only-of-type {\n        vertical-align: middle;\n    }\n\n    .dataframe tbody tr th {\n        vertical-align: top;\n    }\n\n    .dataframe thead th {\n        text-align: right;\n    }\n</style>\n<table border=\"1\" class=\"dataframe\">\n  <thead>\n    <tr style=\"text-align: right;\">\n      <th></th>\n      <th>Symbol</th>\n      <th>Monthly Returns</th>\n      <th>Mkt-RF</th>\n      <th>SMB</th>\n      <th>HML</th>\n      <th>RF</th>\n      <th>Excess Return</th>\n    </tr>\n    <tr>\n      <th>Date</th>\n      <th></th>\n      <th></th>\n      <th></th>\n      <th></th>\n      <th></th>\n      <th></th>\n      <th></th>\n    </tr>\n  </thead>\n  <tbody>\n    <tr>\n      <th>2000-01-31</th>\n      <td>CPRT</td>\n      <td>-0.987130</td>\n      <td>-0.0474</td>\n      <td>0.0577</td>\n      <td>-0.0188</td>\n      <td>0.041</td>\n      <td>-0.939730</td>\n    </tr>\n    <tr>\n      <th>2000-01-31</th>\n      <td>LNT</td>\n      <td>-0.988305</td>\n      <td>-0.0474</td>\n      <td>0.0577</td>\n      <td>-0.0188</td>\n      <td>0.041</td>\n      <td>-0.940905</td>\n    </tr>\n    <tr>\n      <th>2000-01-31</th>\n      <td>BKNG</td>\n      <td>6.844284</td>\n      <td>-0.0474</td>\n      <td>0.0577</td>\n      <td>-0.0188</td>\n      <td>0.041</td>\n      <td>6.891684</td>\n    </tr>\n    <tr>\n      <th>2000-01-31</th>\n      <td>SPG</td>\n      <td>-0.889351</td>\n      <td>-0.0474</td>\n      <td>0.0577</td>\n      <td>-0.0188</td>\n      <td>0.041</td>\n      <td>-0.841951</td>\n    </tr>\n    <tr>\n      <th>2000-01-31</th>\n      <td>LMT</td>\n      <td>-0.971967</td>\n      <td>-0.0474</td>\n      <td>0.0577</td>\n      <td>-0.0188</td>\n      <td>0.041</td>\n      <td>-0.924567</td>\n    </tr>\n    <tr>\n      <th>...</th>\n      <td>...</td>\n      <td>...</td>\n      <td>...</td>\n      <td>...</td>\n      <td>...</td>\n      <td>...</td>\n      <td>...</td>\n    </tr>\n    <tr>\n      <th>2022-11-30</th>\n      <td>SNPS</td>\n      <td>0.160622</td>\n      <td>0.0460</td>\n      <td>-0.0352</td>\n      <td>0.0138</td>\n      <td>0.029</td>\n      <td>0.114622</td>\n    </tr>\n    <tr>\n      <th>2022-11-30</th>\n      <td>GL</td>\n      <td>0.038435</td>\n      <td>0.0460</td>\n      <td>-0.0352</td>\n      <td>0.0138</td>\n      <td>0.029</td>\n      <td>-0.007565</td>\n    </tr>\n    <tr>\n      <th>2022-11-30</th>\n      <td>ALLE</td>\n      <td>0.084757</td>\n      <td>0.0460</td>\n      <td>-0.0352</td>\n      <td>0.0138</td>\n      <td>0.029</td>\n      <td>0.038757</td>\n    </tr>\n    <tr>\n      <th>2022-11-30</th>\n      <td>GLW</td>\n      <td>0.069552</td>\n      <td>0.0460</td>\n      <td>-0.0352</td>\n      <td>0.0138</td>\n      <td>0.029</td>\n      <td>0.023552</td>\n    </tr>\n    <tr>\n      <th>2022-11-30</th>\n      <td>ZTS</td>\n      <td>0.022284</td>\n      <td>0.0460</td>\n      <td>-0.0352</td>\n      <td>0.0138</td>\n      <td>0.029</td>\n      <td>-0.023716</td>\n    </tr>\n  </tbody>\n</table>\n<p>86611 rows × 7 columns</p>\n</div>"
     },
     "execution_count": 14,
     "metadata": {},
     "output_type": "execute_result"
    }
   ],
   "source": [
    "sorted_df"
   ],
   "metadata": {
    "collapsed": false,
    "ExecuteTime": {
     "end_time": "2023-10-25T17:39:18.828612100Z",
     "start_time": "2023-10-25T17:39:18.797367200Z"
    }
   },
   "id": "f75045b378088771"
  },
  {
   "cell_type": "code",
   "execution_count": 16,
   "outputs": [],
   "source": [
    "sorted_df['ex_ret_1'] = sorted_df.groupby('Symbol')['Excess Return'].shift(-1)"
   ],
   "metadata": {
    "collapsed": false,
    "ExecuteTime": {
     "end_time": "2023-10-25T17:41:44.044802300Z",
     "start_time": "2023-10-25T17:41:44.013557100Z"
    }
   },
   "id": "19fa11b17f8c3670"
  },
  {
   "cell_type": "code",
   "execution_count": 17,
   "outputs": [
    {
     "data": {
      "text/plain": "           Symbol  Monthly Returns  Mkt-RF     SMB     HML     RF  \\\nDate                                                                \n2000-01-31   CPRT        -0.987130 -0.0474  0.0577 -0.0188  0.041   \n2000-01-31    LNT        -0.988305 -0.0474  0.0577 -0.0188  0.041   \n2000-01-31   BKNG         6.844284 -0.0474  0.0577 -0.0188  0.041   \n2000-01-31    SPG        -0.889351 -0.0474  0.0577 -0.0188  0.041   \n2000-01-31    LMT        -0.971967 -0.0474  0.0577 -0.0188  0.041   \n...           ...              ...     ...     ...     ...    ...   \n2022-11-30   SNPS         0.160622  0.0460 -0.0352  0.0138  0.029   \n2022-11-30     GL         0.038435  0.0460 -0.0352  0.0138  0.029   \n2022-11-30   ALLE         0.084757  0.0460 -0.0352  0.0138  0.029   \n2022-11-30    GLW         0.069552  0.0460 -0.0352  0.0138  0.029   \n2022-11-30    ZTS         0.022284  0.0460 -0.0352  0.0138  0.029   \n\n            Excess Return  ex_ret_1  \nDate                                 \n2000-01-31      -0.939730  0.212633  \n2000-01-31      -0.940905 -0.081104  \n2000-01-31       6.891684 -0.060060  \n2000-01-31      -0.841951 -0.057994  \n2000-01-31      -0.924567 -0.081933  \n...                   ...       ...  \n2022-11-30       0.114622       NaN  \n2022-11-30      -0.007565       NaN  \n2022-11-30       0.038757       NaN  \n2022-11-30       0.023552       NaN  \n2022-11-30      -0.023716       NaN  \n\n[86611 rows x 8 columns]",
      "text/html": "<div>\n<style scoped>\n    .dataframe tbody tr th:only-of-type {\n        vertical-align: middle;\n    }\n\n    .dataframe tbody tr th {\n        vertical-align: top;\n    }\n\n    .dataframe thead th {\n        text-align: right;\n    }\n</style>\n<table border=\"1\" class=\"dataframe\">\n  <thead>\n    <tr style=\"text-align: right;\">\n      <th></th>\n      <th>Symbol</th>\n      <th>Monthly Returns</th>\n      <th>Mkt-RF</th>\n      <th>SMB</th>\n      <th>HML</th>\n      <th>RF</th>\n      <th>Excess Return</th>\n      <th>ex_ret_1</th>\n    </tr>\n    <tr>\n      <th>Date</th>\n      <th></th>\n      <th></th>\n      <th></th>\n      <th></th>\n      <th></th>\n      <th></th>\n      <th></th>\n      <th></th>\n    </tr>\n  </thead>\n  <tbody>\n    <tr>\n      <th>2000-01-31</th>\n      <td>CPRT</td>\n      <td>-0.987130</td>\n      <td>-0.0474</td>\n      <td>0.0577</td>\n      <td>-0.0188</td>\n      <td>0.041</td>\n      <td>-0.939730</td>\n      <td>0.212633</td>\n    </tr>\n    <tr>\n      <th>2000-01-31</th>\n      <td>LNT</td>\n      <td>-0.988305</td>\n      <td>-0.0474</td>\n      <td>0.0577</td>\n      <td>-0.0188</td>\n      <td>0.041</td>\n      <td>-0.940905</td>\n      <td>-0.081104</td>\n    </tr>\n    <tr>\n      <th>2000-01-31</th>\n      <td>BKNG</td>\n      <td>6.844284</td>\n      <td>-0.0474</td>\n      <td>0.0577</td>\n      <td>-0.0188</td>\n      <td>0.041</td>\n      <td>6.891684</td>\n      <td>-0.060060</td>\n    </tr>\n    <tr>\n      <th>2000-01-31</th>\n      <td>SPG</td>\n      <td>-0.889351</td>\n      <td>-0.0474</td>\n      <td>0.0577</td>\n      <td>-0.0188</td>\n      <td>0.041</td>\n      <td>-0.841951</td>\n      <td>-0.057994</td>\n    </tr>\n    <tr>\n      <th>2000-01-31</th>\n      <td>LMT</td>\n      <td>-0.971967</td>\n      <td>-0.0474</td>\n      <td>0.0577</td>\n      <td>-0.0188</td>\n      <td>0.041</td>\n      <td>-0.924567</td>\n      <td>-0.081933</td>\n    </tr>\n    <tr>\n      <th>...</th>\n      <td>...</td>\n      <td>...</td>\n      <td>...</td>\n      <td>...</td>\n      <td>...</td>\n      <td>...</td>\n      <td>...</td>\n      <td>...</td>\n    </tr>\n    <tr>\n      <th>2022-11-30</th>\n      <td>SNPS</td>\n      <td>0.160622</td>\n      <td>0.0460</td>\n      <td>-0.0352</td>\n      <td>0.0138</td>\n      <td>0.029</td>\n      <td>0.114622</td>\n      <td>NaN</td>\n    </tr>\n    <tr>\n      <th>2022-11-30</th>\n      <td>GL</td>\n      <td>0.038435</td>\n      <td>0.0460</td>\n      <td>-0.0352</td>\n      <td>0.0138</td>\n      <td>0.029</td>\n      <td>-0.007565</td>\n      <td>NaN</td>\n    </tr>\n    <tr>\n      <th>2022-11-30</th>\n      <td>ALLE</td>\n      <td>0.084757</td>\n      <td>0.0460</td>\n      <td>-0.0352</td>\n      <td>0.0138</td>\n      <td>0.029</td>\n      <td>0.038757</td>\n      <td>NaN</td>\n    </tr>\n    <tr>\n      <th>2022-11-30</th>\n      <td>GLW</td>\n      <td>0.069552</td>\n      <td>0.0460</td>\n      <td>-0.0352</td>\n      <td>0.0138</td>\n      <td>0.029</td>\n      <td>0.023552</td>\n      <td>NaN</td>\n    </tr>\n    <tr>\n      <th>2022-11-30</th>\n      <td>ZTS</td>\n      <td>0.022284</td>\n      <td>0.0460</td>\n      <td>-0.0352</td>\n      <td>0.0138</td>\n      <td>0.029</td>\n      <td>-0.023716</td>\n      <td>NaN</td>\n    </tr>\n  </tbody>\n</table>\n<p>86611 rows × 8 columns</p>\n</div>"
     },
     "execution_count": 17,
     "metadata": {},
     "output_type": "execute_result"
    }
   ],
   "source": [
    "sorted_df"
   ],
   "metadata": {
    "collapsed": false,
    "ExecuteTime": {
     "end_time": "2023-10-25T17:41:49.260440500Z",
     "start_time": "2023-10-25T17:41:49.195444100Z"
    }
   },
   "id": "ada1dd5fa2285953"
  },
  {
   "cell_type": "code",
   "execution_count": 21,
   "outputs": [
    {
     "data": {
      "text/plain": "           Symbol  Monthly Returns  Mkt-RF     SMB     HML     RF  \\\nDate                                                                \n2000-02-29      A         0.569405  0.0245  0.2136 -0.0959  0.043   \n2000-03-31      A         0.001203  0.0520 -0.1720  0.0813  0.047   \n2000-05-31      A        -0.169252 -0.0442 -0.0605  0.0475  0.050   \n2000-06-30      A         0.001698  0.0464  0.1284 -0.0842  0.040   \n2000-07-31      A        -0.447458 -0.0251 -0.0307  0.0831  0.048   \n...           ...              ...     ...     ...     ...    ...   \n2022-06-30    ZTS         0.005616 -0.0843  0.0210 -0.0597  0.006   \n2022-08-31    ZTS        -0.142536 -0.0377  0.0140  0.0029  0.019   \n2022-09-30    ZTS        -0.052642 -0.0935 -0.0081  0.0005  0.019   \n2022-10-31    ZTS         0.018952  0.0783  0.0006  0.0801  0.023   \n2022-11-30    ZTS         0.022284  0.0460 -0.0352  0.0138  0.029   \n\n            Excess Return  ex_ret_1  \nDate                                 \n2000-02-29       0.544905 -0.050797  \n2000-03-31      -0.050797 -0.125052  \n2000-05-31      -0.125052 -0.044702  \n2000-06-30      -0.044702 -0.422358  \n2000-07-31      -0.422358  0.426633  \n...                   ...       ...  \n2022-06-30       0.089916 -0.104836  \n2022-08-31      -0.104836  0.040858  \n2022-09-30       0.040858 -0.059348  \n2022-10-31      -0.059348 -0.023716  \n2022-11-30      -0.023716       NaN  \n\n[86611 rows x 8 columns]",
      "text/html": "<div>\n<style scoped>\n    .dataframe tbody tr th:only-of-type {\n        vertical-align: middle;\n    }\n\n    .dataframe tbody tr th {\n        vertical-align: top;\n    }\n\n    .dataframe thead th {\n        text-align: right;\n    }\n</style>\n<table border=\"1\" class=\"dataframe\">\n  <thead>\n    <tr style=\"text-align: right;\">\n      <th></th>\n      <th>Symbol</th>\n      <th>Monthly Returns</th>\n      <th>Mkt-RF</th>\n      <th>SMB</th>\n      <th>HML</th>\n      <th>RF</th>\n      <th>Excess Return</th>\n      <th>ex_ret_1</th>\n    </tr>\n    <tr>\n      <th>Date</th>\n      <th></th>\n      <th></th>\n      <th></th>\n      <th></th>\n      <th></th>\n      <th></th>\n      <th></th>\n      <th></th>\n    </tr>\n  </thead>\n  <tbody>\n    <tr>\n      <th>2000-02-29</th>\n      <td>A</td>\n      <td>0.569405</td>\n      <td>0.0245</td>\n      <td>0.2136</td>\n      <td>-0.0959</td>\n      <td>0.043</td>\n      <td>0.544905</td>\n      <td>-0.050797</td>\n    </tr>\n    <tr>\n      <th>2000-03-31</th>\n      <td>A</td>\n      <td>0.001203</td>\n      <td>0.0520</td>\n      <td>-0.1720</td>\n      <td>0.0813</td>\n      <td>0.047</td>\n      <td>-0.050797</td>\n      <td>-0.125052</td>\n    </tr>\n    <tr>\n      <th>2000-05-31</th>\n      <td>A</td>\n      <td>-0.169252</td>\n      <td>-0.0442</td>\n      <td>-0.0605</td>\n      <td>0.0475</td>\n      <td>0.050</td>\n      <td>-0.125052</td>\n      <td>-0.044702</td>\n    </tr>\n    <tr>\n      <th>2000-06-30</th>\n      <td>A</td>\n      <td>0.001698</td>\n      <td>0.0464</td>\n      <td>0.1284</td>\n      <td>-0.0842</td>\n      <td>0.040</td>\n      <td>-0.044702</td>\n      <td>-0.422358</td>\n    </tr>\n    <tr>\n      <th>2000-07-31</th>\n      <td>A</td>\n      <td>-0.447458</td>\n      <td>-0.0251</td>\n      <td>-0.0307</td>\n      <td>0.0831</td>\n      <td>0.048</td>\n      <td>-0.422358</td>\n      <td>0.426633</td>\n    </tr>\n    <tr>\n      <th>...</th>\n      <td>...</td>\n      <td>...</td>\n      <td>...</td>\n      <td>...</td>\n      <td>...</td>\n      <td>...</td>\n      <td>...</td>\n      <td>...</td>\n    </tr>\n    <tr>\n      <th>2022-06-30</th>\n      <td>ZTS</td>\n      <td>0.005616</td>\n      <td>-0.0843</td>\n      <td>0.0210</td>\n      <td>-0.0597</td>\n      <td>0.006</td>\n      <td>0.089916</td>\n      <td>-0.104836</td>\n    </tr>\n    <tr>\n      <th>2022-08-31</th>\n      <td>ZTS</td>\n      <td>-0.142536</td>\n      <td>-0.0377</td>\n      <td>0.0140</td>\n      <td>0.0029</td>\n      <td>0.019</td>\n      <td>-0.104836</td>\n      <td>0.040858</td>\n    </tr>\n    <tr>\n      <th>2022-09-30</th>\n      <td>ZTS</td>\n      <td>-0.052642</td>\n      <td>-0.0935</td>\n      <td>-0.0081</td>\n      <td>0.0005</td>\n      <td>0.019</td>\n      <td>0.040858</td>\n      <td>-0.059348</td>\n    </tr>\n    <tr>\n      <th>2022-10-31</th>\n      <td>ZTS</td>\n      <td>0.018952</td>\n      <td>0.0783</td>\n      <td>0.0006</td>\n      <td>0.0801</td>\n      <td>0.023</td>\n      <td>-0.059348</td>\n      <td>-0.023716</td>\n    </tr>\n    <tr>\n      <th>2022-11-30</th>\n      <td>ZTS</td>\n      <td>0.022284</td>\n      <td>0.0460</td>\n      <td>-0.0352</td>\n      <td>0.0138</td>\n      <td>0.029</td>\n      <td>-0.023716</td>\n      <td>NaN</td>\n    </tr>\n  </tbody>\n</table>\n<p>86611 rows × 8 columns</p>\n</div>"
     },
     "execution_count": 21,
     "metadata": {},
     "output_type": "execute_result"
    }
   ],
   "source": [
    "sorted_df.sort_values(by=['Symbol', 'Date'])"
   ],
   "metadata": {
    "collapsed": false,
    "ExecuteTime": {
     "end_time": "2023-10-25T17:52:54.507519200Z",
     "start_time": "2023-10-25T17:52:54.441475100Z"
    }
   },
   "id": "27350c1b9c8a374b"
  },
  {
   "cell_type": "code",
   "execution_count": 25,
   "outputs": [],
   "source": [
    "cleared_df = sorted_df.dropna(subset=['ex_ret_1'])"
   ],
   "metadata": {
    "collapsed": false,
    "ExecuteTime": {
     "end_time": "2023-10-25T17:57:18.340541500Z",
     "start_time": "2023-10-25T17:57:18.293501700Z"
    }
   },
   "id": "da592698185459d3"
  },
  {
   "cell_type": "code",
   "execution_count": 26,
   "outputs": [
    {
     "data": {
      "text/plain": "           Symbol  Monthly Returns  Mkt-RF     SMB     HML     RF  \\\nDate                                                                \n2000-01-31   CPRT        -0.987130 -0.0474  0.0577 -0.0188  0.041   \n2000-01-31    LNT        -0.988305 -0.0474  0.0577 -0.0188  0.041   \n2000-01-31   BKNG         6.844284 -0.0474  0.0577 -0.0188  0.041   \n2000-01-31    SPG        -0.889351 -0.0474  0.0577 -0.0188  0.041   \n2000-01-31    LMT        -0.971967 -0.0474  0.0577 -0.0188  0.041   \n...           ...              ...     ...     ...     ...    ...   \n2022-10-31    MAA         0.024170  0.0783  0.0006  0.0801  0.023   \n2022-10-31    CME        -0.021622  0.0783  0.0006  0.0801  0.023   \n2022-10-31   EBAY         0.082314  0.0783  0.0006  0.0801  0.023   \n2022-10-31      V         0.166113  0.0783  0.0006  0.0801  0.023   \n2022-10-31     MU         0.082119  0.0783  0.0006  0.0801  0.023   \n\n            Excess Return  ex_ret_1  \nDate                                 \n2000-01-31      -0.939730  0.212633  \n2000-01-31      -0.940905 -0.081104  \n2000-01-31       6.891684 -0.060060  \n2000-01-31      -0.841951 -0.057994  \n2000-01-31      -0.924567 -0.081933  \n...                   ...       ...  \n2022-10-31      -0.054130  0.001190  \n2022-10-31      -0.099922 -0.027535  \n2022-10-31       0.004014  0.100324  \n2022-10-31       0.087813  0.003841  \n2022-10-31       0.003819  0.019619  \n\n[86113 rows x 8 columns]",
      "text/html": "<div>\n<style scoped>\n    .dataframe tbody tr th:only-of-type {\n        vertical-align: middle;\n    }\n\n    .dataframe tbody tr th {\n        vertical-align: top;\n    }\n\n    .dataframe thead th {\n        text-align: right;\n    }\n</style>\n<table border=\"1\" class=\"dataframe\">\n  <thead>\n    <tr style=\"text-align: right;\">\n      <th></th>\n      <th>Symbol</th>\n      <th>Monthly Returns</th>\n      <th>Mkt-RF</th>\n      <th>SMB</th>\n      <th>HML</th>\n      <th>RF</th>\n      <th>Excess Return</th>\n      <th>ex_ret_1</th>\n    </tr>\n    <tr>\n      <th>Date</th>\n      <th></th>\n      <th></th>\n      <th></th>\n      <th></th>\n      <th></th>\n      <th></th>\n      <th></th>\n      <th></th>\n    </tr>\n  </thead>\n  <tbody>\n    <tr>\n      <th>2000-01-31</th>\n      <td>CPRT</td>\n      <td>-0.987130</td>\n      <td>-0.0474</td>\n      <td>0.0577</td>\n      <td>-0.0188</td>\n      <td>0.041</td>\n      <td>-0.939730</td>\n      <td>0.212633</td>\n    </tr>\n    <tr>\n      <th>2000-01-31</th>\n      <td>LNT</td>\n      <td>-0.988305</td>\n      <td>-0.0474</td>\n      <td>0.0577</td>\n      <td>-0.0188</td>\n      <td>0.041</td>\n      <td>-0.940905</td>\n      <td>-0.081104</td>\n    </tr>\n    <tr>\n      <th>2000-01-31</th>\n      <td>BKNG</td>\n      <td>6.844284</td>\n      <td>-0.0474</td>\n      <td>0.0577</td>\n      <td>-0.0188</td>\n      <td>0.041</td>\n      <td>6.891684</td>\n      <td>-0.060060</td>\n    </tr>\n    <tr>\n      <th>2000-01-31</th>\n      <td>SPG</td>\n      <td>-0.889351</td>\n      <td>-0.0474</td>\n      <td>0.0577</td>\n      <td>-0.0188</td>\n      <td>0.041</td>\n      <td>-0.841951</td>\n      <td>-0.057994</td>\n    </tr>\n    <tr>\n      <th>2000-01-31</th>\n      <td>LMT</td>\n      <td>-0.971967</td>\n      <td>-0.0474</td>\n      <td>0.0577</td>\n      <td>-0.0188</td>\n      <td>0.041</td>\n      <td>-0.924567</td>\n      <td>-0.081933</td>\n    </tr>\n    <tr>\n      <th>...</th>\n      <td>...</td>\n      <td>...</td>\n      <td>...</td>\n      <td>...</td>\n      <td>...</td>\n      <td>...</td>\n      <td>...</td>\n      <td>...</td>\n    </tr>\n    <tr>\n      <th>2022-10-31</th>\n      <td>MAA</td>\n      <td>0.024170</td>\n      <td>0.0783</td>\n      <td>0.0006</td>\n      <td>0.0801</td>\n      <td>0.023</td>\n      <td>-0.054130</td>\n      <td>0.001190</td>\n    </tr>\n    <tr>\n      <th>2022-10-31</th>\n      <td>CME</td>\n      <td>-0.021622</td>\n      <td>0.0783</td>\n      <td>0.0006</td>\n      <td>0.0801</td>\n      <td>0.023</td>\n      <td>-0.099922</td>\n      <td>-0.027535</td>\n    </tr>\n    <tr>\n      <th>2022-10-31</th>\n      <td>EBAY</td>\n      <td>0.082314</td>\n      <td>0.0783</td>\n      <td>0.0006</td>\n      <td>0.0801</td>\n      <td>0.023</td>\n      <td>0.004014</td>\n      <td>0.100324</td>\n    </tr>\n    <tr>\n      <th>2022-10-31</th>\n      <td>V</td>\n      <td>0.166113</td>\n      <td>0.0783</td>\n      <td>0.0006</td>\n      <td>0.0801</td>\n      <td>0.023</td>\n      <td>0.087813</td>\n      <td>0.003841</td>\n    </tr>\n    <tr>\n      <th>2022-10-31</th>\n      <td>MU</td>\n      <td>0.082119</td>\n      <td>0.0783</td>\n      <td>0.0006</td>\n      <td>0.0801</td>\n      <td>0.023</td>\n      <td>0.003819</td>\n      <td>0.019619</td>\n    </tr>\n  </tbody>\n</table>\n<p>86113 rows × 8 columns</p>\n</div>"
     },
     "execution_count": 26,
     "metadata": {},
     "output_type": "execute_result"
    }
   ],
   "source": [
    "cleared_df.dropna(subset=['HML'])"
   ],
   "metadata": {
    "collapsed": false,
    "ExecuteTime": {
     "end_time": "2023-10-25T17:57:30.268172400Z",
     "start_time": "2023-10-25T17:57:30.235868100Z"
    }
   },
   "id": "daddc901849ba45b"
  },
  {
   "cell_type": "code",
   "execution_count": 29,
   "outputs": [
    {
     "data": {
      "text/plain": "           Symbol  Monthly Returns  Mkt-RF     SMB     HML     RF  \\\nDate                                                                \n2000-01-31   AMZN        -0.984367 -0.0474  0.0577 -0.0188  0.041   \n2000-02-29   AMZN         0.066796  0.0245  0.2136 -0.0959  0.043   \n2000-03-31   AMZN        -0.027223  0.0520 -0.1720  0.0813  0.047   \n2000-05-31   AMZN        -0.124575 -0.0442 -0.0605  0.0475  0.050   \n2000-06-30   AMZN        -0.248383  0.0464  0.1284 -0.0842  0.040   \n...           ...              ...     ...     ...     ...    ...   \n2022-05-31   AMZN        -0.032764 -0.0034 -0.0183  0.0839  0.003   \n2022-06-30   AMZN        -0.116459 -0.0843  0.0210 -0.0597  0.006   \n2022-08-31   AMZN        -0.060615 -0.0377  0.0140  0.0029  0.019   \n2022-09-30   AMZN        -0.108622 -0.0935 -0.0081  0.0005  0.019   \n2022-10-31   AMZN        -0.093451  0.0783  0.0006  0.0801  0.023   \n\n            Excess Return  ex_ret_1  \nDate                                 \n2000-01-31      -0.936967  0.042296  \n2000-02-29       0.042296 -0.079223  \n2000-03-31      -0.079223 -0.080375  \n2000-05-31      -0.080375 -0.294783  \n2000-06-30      -0.294783 -0.145296  \n...                   ...       ...  \n2022-05-31      -0.029364 -0.032159  \n2022-06-30      -0.032159 -0.022915  \n2022-08-31      -0.022915 -0.015122  \n2022-09-30      -0.015122 -0.171751  \n2022-10-31      -0.171751 -0.103595  \n\n[194 rows x 8 columns]",
      "text/html": "<div>\n<style scoped>\n    .dataframe tbody tr th:only-of-type {\n        vertical-align: middle;\n    }\n\n    .dataframe tbody tr th {\n        vertical-align: top;\n    }\n\n    .dataframe thead th {\n        text-align: right;\n    }\n</style>\n<table border=\"1\" class=\"dataframe\">\n  <thead>\n    <tr style=\"text-align: right;\">\n      <th></th>\n      <th>Symbol</th>\n      <th>Monthly Returns</th>\n      <th>Mkt-RF</th>\n      <th>SMB</th>\n      <th>HML</th>\n      <th>RF</th>\n      <th>Excess Return</th>\n      <th>ex_ret_1</th>\n    </tr>\n    <tr>\n      <th>Date</th>\n      <th></th>\n      <th></th>\n      <th></th>\n      <th></th>\n      <th></th>\n      <th></th>\n      <th></th>\n      <th></th>\n    </tr>\n  </thead>\n  <tbody>\n    <tr>\n      <th>2000-01-31</th>\n      <td>AMZN</td>\n      <td>-0.984367</td>\n      <td>-0.0474</td>\n      <td>0.0577</td>\n      <td>-0.0188</td>\n      <td>0.041</td>\n      <td>-0.936967</td>\n      <td>0.042296</td>\n    </tr>\n    <tr>\n      <th>2000-02-29</th>\n      <td>AMZN</td>\n      <td>0.066796</td>\n      <td>0.0245</td>\n      <td>0.2136</td>\n      <td>-0.0959</td>\n      <td>0.043</td>\n      <td>0.042296</td>\n      <td>-0.079223</td>\n    </tr>\n    <tr>\n      <th>2000-03-31</th>\n      <td>AMZN</td>\n      <td>-0.027223</td>\n      <td>0.0520</td>\n      <td>-0.1720</td>\n      <td>0.0813</td>\n      <td>0.047</td>\n      <td>-0.079223</td>\n      <td>-0.080375</td>\n    </tr>\n    <tr>\n      <th>2000-05-31</th>\n      <td>AMZN</td>\n      <td>-0.124575</td>\n      <td>-0.0442</td>\n      <td>-0.0605</td>\n      <td>0.0475</td>\n      <td>0.050</td>\n      <td>-0.080375</td>\n      <td>-0.294783</td>\n    </tr>\n    <tr>\n      <th>2000-06-30</th>\n      <td>AMZN</td>\n      <td>-0.248383</td>\n      <td>0.0464</td>\n      <td>0.1284</td>\n      <td>-0.0842</td>\n      <td>0.040</td>\n      <td>-0.294783</td>\n      <td>-0.145296</td>\n    </tr>\n    <tr>\n      <th>...</th>\n      <td>...</td>\n      <td>...</td>\n      <td>...</td>\n      <td>...</td>\n      <td>...</td>\n      <td>...</td>\n      <td>...</td>\n      <td>...</td>\n    </tr>\n    <tr>\n      <th>2022-05-31</th>\n      <td>AMZN</td>\n      <td>-0.032764</td>\n      <td>-0.0034</td>\n      <td>-0.0183</td>\n      <td>0.0839</td>\n      <td>0.003</td>\n      <td>-0.029364</td>\n      <td>-0.032159</td>\n    </tr>\n    <tr>\n      <th>2022-06-30</th>\n      <td>AMZN</td>\n      <td>-0.116459</td>\n      <td>-0.0843</td>\n      <td>0.0210</td>\n      <td>-0.0597</td>\n      <td>0.006</td>\n      <td>-0.032159</td>\n      <td>-0.022915</td>\n    </tr>\n    <tr>\n      <th>2022-08-31</th>\n      <td>AMZN</td>\n      <td>-0.060615</td>\n      <td>-0.0377</td>\n      <td>0.0140</td>\n      <td>0.0029</td>\n      <td>0.019</td>\n      <td>-0.022915</td>\n      <td>-0.015122</td>\n    </tr>\n    <tr>\n      <th>2022-09-30</th>\n      <td>AMZN</td>\n      <td>-0.108622</td>\n      <td>-0.0935</td>\n      <td>-0.0081</td>\n      <td>0.0005</td>\n      <td>0.019</td>\n      <td>-0.015122</td>\n      <td>-0.171751</td>\n    </tr>\n    <tr>\n      <th>2022-10-31</th>\n      <td>AMZN</td>\n      <td>-0.093451</td>\n      <td>0.0783</td>\n      <td>0.0006</td>\n      <td>0.0801</td>\n      <td>0.023</td>\n      <td>-0.171751</td>\n      <td>-0.103595</td>\n    </tr>\n  </tbody>\n</table>\n<p>194 rows × 8 columns</p>\n</div>"
     },
     "execution_count": 29,
     "metadata": {},
     "output_type": "execute_result"
    }
   ],
   "source": [
    "cleared_df[cleared_df[\"Symbol\"] == 'AMZN']"
   ],
   "metadata": {
    "collapsed": false,
    "ExecuteTime": {
     "end_time": "2023-10-25T18:01:45.968229600Z",
     "start_time": "2023-10-25T18:01:45.931989800Z"
    }
   },
   "id": "471e59a019c68c23"
  },
  {
   "cell_type": "code",
   "execution_count": 30,
   "outputs": [],
   "source": [
    "final_df = cleared_df.drop(columns=['Symbol'])"
   ],
   "metadata": {
    "collapsed": false,
    "ExecuteTime": {
     "end_time": "2023-10-25T18:02:01.892412900Z",
     "start_time": "2023-10-25T18:02:01.860037600Z"
    }
   },
   "id": "c6079cf1b0d9601a"
  },
  {
   "cell_type": "code",
   "execution_count": 31,
   "outputs": [
    {
     "data": {
      "text/plain": "            Monthly Returns  Mkt-RF     SMB     HML     RF  Excess Return  \\\nDate                                                                        \n2000-01-31        -0.987130 -0.0474  0.0577 -0.0188  0.041      -0.939730   \n2000-01-31        -0.988305 -0.0474  0.0577 -0.0188  0.041      -0.940905   \n2000-01-31         6.844284 -0.0474  0.0577 -0.0188  0.041       6.891684   \n2000-01-31        -0.889351 -0.0474  0.0577 -0.0188  0.041      -0.841951   \n2000-01-31        -0.971967 -0.0474  0.0577 -0.0188  0.041      -0.924567   \n...                     ...     ...     ...     ...    ...            ...   \n2022-10-31         0.024170  0.0783  0.0006  0.0801  0.023      -0.054130   \n2022-10-31        -0.021622  0.0783  0.0006  0.0801  0.023      -0.099922   \n2022-10-31         0.082314  0.0783  0.0006  0.0801  0.023       0.004014   \n2022-10-31         0.166113  0.0783  0.0006  0.0801  0.023       0.087813   \n2022-10-31         0.082119  0.0783  0.0006  0.0801  0.023       0.003819   \n\n            ex_ret_1  \nDate                  \n2000-01-31  0.212633  \n2000-01-31 -0.081104  \n2000-01-31 -0.060060  \n2000-01-31 -0.057994  \n2000-01-31 -0.081933  \n...              ...  \n2022-10-31  0.001190  \n2022-10-31 -0.027535  \n2022-10-31  0.100324  \n2022-10-31  0.003841  \n2022-10-31  0.019619  \n\n[86113 rows x 7 columns]",
      "text/html": "<div>\n<style scoped>\n    .dataframe tbody tr th:only-of-type {\n        vertical-align: middle;\n    }\n\n    .dataframe tbody tr th {\n        vertical-align: top;\n    }\n\n    .dataframe thead th {\n        text-align: right;\n    }\n</style>\n<table border=\"1\" class=\"dataframe\">\n  <thead>\n    <tr style=\"text-align: right;\">\n      <th></th>\n      <th>Monthly Returns</th>\n      <th>Mkt-RF</th>\n      <th>SMB</th>\n      <th>HML</th>\n      <th>RF</th>\n      <th>Excess Return</th>\n      <th>ex_ret_1</th>\n    </tr>\n    <tr>\n      <th>Date</th>\n      <th></th>\n      <th></th>\n      <th></th>\n      <th></th>\n      <th></th>\n      <th></th>\n      <th></th>\n    </tr>\n  </thead>\n  <tbody>\n    <tr>\n      <th>2000-01-31</th>\n      <td>-0.987130</td>\n      <td>-0.0474</td>\n      <td>0.0577</td>\n      <td>-0.0188</td>\n      <td>0.041</td>\n      <td>-0.939730</td>\n      <td>0.212633</td>\n    </tr>\n    <tr>\n      <th>2000-01-31</th>\n      <td>-0.988305</td>\n      <td>-0.0474</td>\n      <td>0.0577</td>\n      <td>-0.0188</td>\n      <td>0.041</td>\n      <td>-0.940905</td>\n      <td>-0.081104</td>\n    </tr>\n    <tr>\n      <th>2000-01-31</th>\n      <td>6.844284</td>\n      <td>-0.0474</td>\n      <td>0.0577</td>\n      <td>-0.0188</td>\n      <td>0.041</td>\n      <td>6.891684</td>\n      <td>-0.060060</td>\n    </tr>\n    <tr>\n      <th>2000-01-31</th>\n      <td>-0.889351</td>\n      <td>-0.0474</td>\n      <td>0.0577</td>\n      <td>-0.0188</td>\n      <td>0.041</td>\n      <td>-0.841951</td>\n      <td>-0.057994</td>\n    </tr>\n    <tr>\n      <th>2000-01-31</th>\n      <td>-0.971967</td>\n      <td>-0.0474</td>\n      <td>0.0577</td>\n      <td>-0.0188</td>\n      <td>0.041</td>\n      <td>-0.924567</td>\n      <td>-0.081933</td>\n    </tr>\n    <tr>\n      <th>...</th>\n      <td>...</td>\n      <td>...</td>\n      <td>...</td>\n      <td>...</td>\n      <td>...</td>\n      <td>...</td>\n      <td>...</td>\n    </tr>\n    <tr>\n      <th>2022-10-31</th>\n      <td>0.024170</td>\n      <td>0.0783</td>\n      <td>0.0006</td>\n      <td>0.0801</td>\n      <td>0.023</td>\n      <td>-0.054130</td>\n      <td>0.001190</td>\n    </tr>\n    <tr>\n      <th>2022-10-31</th>\n      <td>-0.021622</td>\n      <td>0.0783</td>\n      <td>0.0006</td>\n      <td>0.0801</td>\n      <td>0.023</td>\n      <td>-0.099922</td>\n      <td>-0.027535</td>\n    </tr>\n    <tr>\n      <th>2022-10-31</th>\n      <td>0.082314</td>\n      <td>0.0783</td>\n      <td>0.0006</td>\n      <td>0.0801</td>\n      <td>0.023</td>\n      <td>0.004014</td>\n      <td>0.100324</td>\n    </tr>\n    <tr>\n      <th>2022-10-31</th>\n      <td>0.166113</td>\n      <td>0.0783</td>\n      <td>0.0006</td>\n      <td>0.0801</td>\n      <td>0.023</td>\n      <td>0.087813</td>\n      <td>0.003841</td>\n    </tr>\n    <tr>\n      <th>2022-10-31</th>\n      <td>0.082119</td>\n      <td>0.0783</td>\n      <td>0.0006</td>\n      <td>0.0801</td>\n      <td>0.023</td>\n      <td>0.003819</td>\n      <td>0.019619</td>\n    </tr>\n  </tbody>\n</table>\n<p>86113 rows × 7 columns</p>\n</div>"
     },
     "execution_count": 31,
     "metadata": {},
     "output_type": "execute_result"
    }
   ],
   "source": [
    "final_df"
   ],
   "metadata": {
    "collapsed": false,
    "ExecuteTime": {
     "end_time": "2023-10-25T18:02:06.804144300Z",
     "start_time": "2023-10-25T18:02:06.740582500Z"
    }
   },
   "id": "f1e7b8114368e210"
  },
  {
   "cell_type": "code",
   "execution_count": null,
   "outputs": [],
   "source": [],
   "metadata": {
    "collapsed": false
   },
   "id": "1b59d8f5fc09cc27"
  }
 ],
 "metadata": {
  "kernelspec": {
   "display_name": "Python 3",
   "language": "python",
   "name": "python3"
  },
  "language_info": {
   "codemirror_mode": {
    "name": "ipython",
    "version": 2
   },
   "file_extension": ".py",
   "mimetype": "text/x-python",
   "name": "python",
   "nbconvert_exporter": "python",
   "pygments_lexer": "ipython2",
   "version": "2.7.6"
  }
 },
 "nbformat": 4,
 "nbformat_minor": 5
}
