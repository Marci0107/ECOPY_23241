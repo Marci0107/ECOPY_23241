{
 "cells": [
  {
   "cell_type": "code",
   "execution_count": 16,
   "id": "initial_id",
   "metadata": {
    "collapsed": true,
    "ExecuteTime": {
     "end_time": "2023-10-23T08:54:38.691595Z",
     "start_time": "2023-10-23T08:54:38.577610400Z"
    }
   },
   "outputs": [],
   "source": [
    "from pathlib import Path\n",
    "import pandas as pd\n",
    "import matplotlib.pyplot as plt\n",
    "import random\n",
    "from src import weekly\n",
    "from distributions import UniformDistribution"
   ]
  },
  {
   "cell_type": "code",
   "execution_count": 3,
   "outputs": [],
   "source": [
    "file_to_load = Path.cwd().parent.joinpath('data').joinpath('chipotle.tsv')\n",
    "food = pd.read_csv(\"C:/Users/User\\Documents\\GitHub\\ECOPY_23241\\data\\chipotle.tsv\", delimiter='\\t')"
   ],
   "metadata": {
    "collapsed": false,
    "ExecuteTime": {
     "end_time": "2023-10-23T08:16:12.876008300Z",
     "start_time": "2023-10-23T08:16:12.825423Z"
    }
   },
   "id": "cc1cc51c3ed0904b"
  },
  {
   "cell_type": "code",
   "execution_count": 7,
   "outputs": [
    {
     "data": {
      "text/plain": "      order_id  quantity                              item_name  \\\n0            1         1           Chips and Fresh Tomato Salsa   \n1            1         1                                   Izze   \n2            1         1                       Nantucket Nectar   \n3            1         1  Chips and Tomatillo-Green Chili Salsa   \n4            2         2                           Chicken Bowl   \n...        ...       ...                                    ...   \n4617      1833         1                          Steak Burrito   \n4618      1833         1                          Steak Burrito   \n4619      1834         1                     Chicken Salad Bowl   \n4620      1834         1                     Chicken Salad Bowl   \n4621      1834         1                     Chicken Salad Bowl   \n\n                                     choice_description item_price  \n0                                                   NaN     $2.39   \n1                                          [Clementine]     $3.39   \n2                                               [Apple]     $3.39   \n3                                                   NaN     $2.39   \n4     [Tomatillo-Red Chili Salsa (Hot), [Black Beans...    $16.98   \n...                                                 ...        ...  \n4617  [Fresh Tomato Salsa, [Rice, Black Beans, Sour ...    $11.75   \n4618  [Fresh Tomato Salsa, [Rice, Sour Cream, Cheese...    $11.75   \n4619  [Fresh Tomato Salsa, [Fajita Vegetables, Pinto...    $11.25   \n4620  [Fresh Tomato Salsa, [Fajita Vegetables, Lettu...     $8.75   \n4621  [Fresh Tomato Salsa, [Fajita Vegetables, Pinto...     $8.75   \n\n[4622 rows x 5 columns]",
      "text/html": "<div>\n<style scoped>\n    .dataframe tbody tr th:only-of-type {\n        vertical-align: middle;\n    }\n\n    .dataframe tbody tr th {\n        vertical-align: top;\n    }\n\n    .dataframe thead th {\n        text-align: right;\n    }\n</style>\n<table border=\"1\" class=\"dataframe\">\n  <thead>\n    <tr style=\"text-align: right;\">\n      <th></th>\n      <th>order_id</th>\n      <th>quantity</th>\n      <th>item_name</th>\n      <th>choice_description</th>\n      <th>item_price</th>\n    </tr>\n  </thead>\n  <tbody>\n    <tr>\n      <th>0</th>\n      <td>1</td>\n      <td>1</td>\n      <td>Chips and Fresh Tomato Salsa</td>\n      <td>NaN</td>\n      <td>$2.39</td>\n    </tr>\n    <tr>\n      <th>1</th>\n      <td>1</td>\n      <td>1</td>\n      <td>Izze</td>\n      <td>[Clementine]</td>\n      <td>$3.39</td>\n    </tr>\n    <tr>\n      <th>2</th>\n      <td>1</td>\n      <td>1</td>\n      <td>Nantucket Nectar</td>\n      <td>[Apple]</td>\n      <td>$3.39</td>\n    </tr>\n    <tr>\n      <th>3</th>\n      <td>1</td>\n      <td>1</td>\n      <td>Chips and Tomatillo-Green Chili Salsa</td>\n      <td>NaN</td>\n      <td>$2.39</td>\n    </tr>\n    <tr>\n      <th>4</th>\n      <td>2</td>\n      <td>2</td>\n      <td>Chicken Bowl</td>\n      <td>[Tomatillo-Red Chili Salsa (Hot), [Black Beans...</td>\n      <td>$16.98</td>\n    </tr>\n    <tr>\n      <th>...</th>\n      <td>...</td>\n      <td>...</td>\n      <td>...</td>\n      <td>...</td>\n      <td>...</td>\n    </tr>\n    <tr>\n      <th>4617</th>\n      <td>1833</td>\n      <td>1</td>\n      <td>Steak Burrito</td>\n      <td>[Fresh Tomato Salsa, [Rice, Black Beans, Sour ...</td>\n      <td>$11.75</td>\n    </tr>\n    <tr>\n      <th>4618</th>\n      <td>1833</td>\n      <td>1</td>\n      <td>Steak Burrito</td>\n      <td>[Fresh Tomato Salsa, [Rice, Sour Cream, Cheese...</td>\n      <td>$11.75</td>\n    </tr>\n    <tr>\n      <th>4619</th>\n      <td>1834</td>\n      <td>1</td>\n      <td>Chicken Salad Bowl</td>\n      <td>[Fresh Tomato Salsa, [Fajita Vegetables, Pinto...</td>\n      <td>$11.25</td>\n    </tr>\n    <tr>\n      <th>4620</th>\n      <td>1834</td>\n      <td>1</td>\n      <td>Chicken Salad Bowl</td>\n      <td>[Fresh Tomato Salsa, [Fajita Vegetables, Lettu...</td>\n      <td>$8.75</td>\n    </tr>\n    <tr>\n      <th>4621</th>\n      <td>1834</td>\n      <td>1</td>\n      <td>Chicken Salad Bowl</td>\n      <td>[Fresh Tomato Salsa, [Fajita Vegetables, Pinto...</td>\n      <td>$8.75</td>\n    </tr>\n  </tbody>\n</table>\n<p>4622 rows × 5 columns</p>\n</div>"
     },
     "execution_count": 7,
     "metadata": {},
     "output_type": "execute_result"
    }
   ],
   "source": [
    "food"
   ],
   "metadata": {
    "collapsed": false,
    "ExecuteTime": {
     "end_time": "2023-10-18T17:30:37.948364100Z",
     "start_time": "2023-10-18T17:30:37.817827600Z"
    }
   },
   "id": "1781e347d43fa58b"
  },
  {
   "cell_type": "code",
   "execution_count": 4,
   "outputs": [],
   "source": [
    "def change_price_to_float(input_df):\n",
    "    food = input_df.copy()\n",
    "    food['item_price'] = food['item_price'].str.replace('$', '').astype(float)\n",
    "    return food"
   ],
   "metadata": {
    "collapsed": false,
    "ExecuteTime": {
     "end_time": "2023-10-23T08:16:20.370185900Z",
     "start_time": "2023-10-23T08:16:20.338894200Z"
    }
   },
   "id": "c33edc364ac5c1d7"
  },
  {
   "cell_type": "code",
   "execution_count": 5,
   "outputs": [],
   "source": [
    "food_clear = change_price_to_float(food)"
   ],
   "metadata": {
    "collapsed": false,
    "ExecuteTime": {
     "end_time": "2023-10-23T08:16:23.537293900Z",
     "start_time": "2023-10-23T08:16:23.467570200Z"
    }
   },
   "id": "a42a1715ec893e1"
  },
  {
   "cell_type": "code",
   "execution_count": 12,
   "outputs": [],
   "source": [],
   "metadata": {
    "collapsed": false,
    "ExecuteTime": {
     "end_time": "2023-10-18T17:53:54.120967600Z",
     "start_time": "2023-10-18T17:53:54.097233700Z"
    }
   },
   "id": "16215e0b7f6e55ea"
  },
  {
   "cell_type": "code",
   "execution_count": null,
   "outputs": [],
   "source": [],
   "metadata": {
    "collapsed": false
   },
   "id": "e5b46213508f78fd"
  },
  {
   "cell_type": "code",
   "execution_count": 15,
   "outputs": [],
   "source": [
    "def unique_items_over_ten_dollars(input_df):\n",
    "    new_df = input_df.copy()\n",
    "    filtered_df = new_df[new_df[\"item_price\"] > 10]\n",
    "    # Duplikációk eltávolítása\n",
    "    unique_items_df = filtered_df.drop_duplicates(subset=[\"item_name\", \"choice_description\", \"item_price\"])\n",
    "    return unique_items_df[[\"item_name\", \"choice_description\", \"item_price\"]]"
   ],
   "metadata": {
    "collapsed": false,
    "ExecuteTime": {
     "end_time": "2023-10-18T17:57:10.647432Z",
     "start_time": "2023-10-18T17:57:10.306765800Z"
    }
   },
   "id": "969026f59ed7c268"
  },
  {
   "cell_type": "code",
   "execution_count": 16,
   "outputs": [
    {
     "data": {
      "text/plain": "            item_name                                 choice_description  \\\n4        Chicken Bowl  [Tomatillo-Red Chili Salsa (Hot), [Black Beans...   \n5        Chicken Bowl  [Fresh Tomato Salsa (Mild), [Rice, Cheese, Sou...   \n7       Steak Burrito  [Tomatillo Red Chili Salsa, [Fajita Vegetables...   \n13       Chicken Bowl  [Fresh Tomato Salsa, [Fajita Vegetables, Rice,...   \n23    Chicken Burrito  [[Tomatillo-Green Chili Salsa (Medium), Tomati...   \n...               ...                                                ...   \n4593    Carnitas Bowl  [Roasted Chili Corn Salsa, [Rice, Sour Cream, ...   \n4594    Barbacoa Bowl  [Roasted Chili Corn Salsa, [Pinto Beans, Sour ...   \n4607    Steak Burrito  [Tomatillo Green Chili Salsa, [Rice, Cheese, S...   \n4610    Steak Burrito  [Fresh Tomato Salsa, [Rice, Sour Cream, Cheese...   \n4611   Veggie Burrito  [Tomatillo Green Chili Salsa, [Rice, Fajita Ve...   \n\n      item_price  \n4          16.98  \n5          10.98  \n7          11.75  \n13         11.25  \n23         10.98  \n...          ...  \n4593       11.75  \n4594       11.75  \n4607       11.75  \n4610       11.75  \n4611       11.25  \n\n[794 rows x 3 columns]",
      "text/html": "<div>\n<style scoped>\n    .dataframe tbody tr th:only-of-type {\n        vertical-align: middle;\n    }\n\n    .dataframe tbody tr th {\n        vertical-align: top;\n    }\n\n    .dataframe thead th {\n        text-align: right;\n    }\n</style>\n<table border=\"1\" class=\"dataframe\">\n  <thead>\n    <tr style=\"text-align: right;\">\n      <th></th>\n      <th>item_name</th>\n      <th>choice_description</th>\n      <th>item_price</th>\n    </tr>\n  </thead>\n  <tbody>\n    <tr>\n      <th>4</th>\n      <td>Chicken Bowl</td>\n      <td>[Tomatillo-Red Chili Salsa (Hot), [Black Beans...</td>\n      <td>16.98</td>\n    </tr>\n    <tr>\n      <th>5</th>\n      <td>Chicken Bowl</td>\n      <td>[Fresh Tomato Salsa (Mild), [Rice, Cheese, Sou...</td>\n      <td>10.98</td>\n    </tr>\n    <tr>\n      <th>7</th>\n      <td>Steak Burrito</td>\n      <td>[Tomatillo Red Chili Salsa, [Fajita Vegetables...</td>\n      <td>11.75</td>\n    </tr>\n    <tr>\n      <th>13</th>\n      <td>Chicken Bowl</td>\n      <td>[Fresh Tomato Salsa, [Fajita Vegetables, Rice,...</td>\n      <td>11.25</td>\n    </tr>\n    <tr>\n      <th>23</th>\n      <td>Chicken Burrito</td>\n      <td>[[Tomatillo-Green Chili Salsa (Medium), Tomati...</td>\n      <td>10.98</td>\n    </tr>\n    <tr>\n      <th>...</th>\n      <td>...</td>\n      <td>...</td>\n      <td>...</td>\n    </tr>\n    <tr>\n      <th>4593</th>\n      <td>Carnitas Bowl</td>\n      <td>[Roasted Chili Corn Salsa, [Rice, Sour Cream, ...</td>\n      <td>11.75</td>\n    </tr>\n    <tr>\n      <th>4594</th>\n      <td>Barbacoa Bowl</td>\n      <td>[Roasted Chili Corn Salsa, [Pinto Beans, Sour ...</td>\n      <td>11.75</td>\n    </tr>\n    <tr>\n      <th>4607</th>\n      <td>Steak Burrito</td>\n      <td>[Tomatillo Green Chili Salsa, [Rice, Cheese, S...</td>\n      <td>11.75</td>\n    </tr>\n    <tr>\n      <th>4610</th>\n      <td>Steak Burrito</td>\n      <td>[Fresh Tomato Salsa, [Rice, Sour Cream, Cheese...</td>\n      <td>11.75</td>\n    </tr>\n    <tr>\n      <th>4611</th>\n      <td>Veggie Burrito</td>\n      <td>[Tomatillo Green Chili Salsa, [Rice, Fajita Ve...</td>\n      <td>11.25</td>\n    </tr>\n  </tbody>\n</table>\n<p>794 rows × 3 columns</p>\n</div>"
     },
     "execution_count": 16,
     "metadata": {},
     "output_type": "execute_result"
    }
   ],
   "source": [
    "unique_items_over_ten_dollars(food_clear)"
   ],
   "metadata": {
    "collapsed": false,
    "ExecuteTime": {
     "end_time": "2023-10-18T17:57:13.077007200Z",
     "start_time": "2023-10-18T17:57:12.967446400Z"
    }
   },
   "id": "7d0bfbfdda40b355"
  },
  {
   "cell_type": "code",
   "execution_count": 13,
   "outputs": [],
   "source": [
    "def items_starting_with_s(input_df):\n",
    "    new_df = input_df.copy()\n",
    "    selected_items = new_df[new_df['item_name'].str.startswith('S')]\n",
    "    unique_selected_items_df = selected_items.drop_duplicates(subset=[\"item_name\"])\n",
    "    return unique_selected_items_df[\"item_name\"].reset_index(drop=True)"
   ],
   "metadata": {
    "collapsed": false,
    "ExecuteTime": {
     "end_time": "2023-10-22T20:19:08.956631300Z",
     "start_time": "2023-10-22T20:19:08.923317Z"
    }
   },
   "id": "93135947e9730887"
  },
  {
   "cell_type": "code",
   "execution_count": 14,
   "outputs": [
    {
     "data": {
      "text/plain": "0         Side of Chips\n1         Steak Burrito\n2      Steak Soft Tacos\n3            Steak Bowl\n4    Steak Crispy Tacos\n5      Steak Salad Bowl\n6           Steak Salad\n7                 Salad\nName: item_name, dtype: object"
     },
     "execution_count": 14,
     "metadata": {},
     "output_type": "execute_result"
    }
   ],
   "source": [
    "items_starting_with_s(food_clear)"
   ],
   "metadata": {
    "collapsed": false,
    "ExecuteTime": {
     "end_time": "2023-10-22T20:19:11.365841900Z",
     "start_time": "2023-10-22T20:19:11.348145100Z"
    }
   },
   "id": "8067f26d3a313272"
  },
  {
   "cell_type": "code",
   "execution_count": 6,
   "outputs": [],
   "source": [
    "def generate_quartile(input_df):\n",
    "    new_df = input_df.copy()\n",
    "    new_df['Quartile'] = pd.cut(input_df['item_price'], [-1, 10, 20, 30, float('inf')], labels=['low-cost', 'medium-cost', 'high-cost', 'premium'], right=False).astype('object')\n",
    "    return new_df"
   ],
   "metadata": {
    "collapsed": false,
    "ExecuteTime": {
     "end_time": "2023-10-23T08:16:45.297854400Z",
     "start_time": "2023-10-23T08:16:45.226729600Z"
    }
   },
   "id": "5ea47a60191bcc3a"
  },
  {
   "cell_type": "code",
   "execution_count": 7,
   "outputs": [],
   "source": [
    "food_quartile = generate_quartile(food_clear)"
   ],
   "metadata": {
    "collapsed": false,
    "ExecuteTime": {
     "end_time": "2023-10-23T08:16:48.563207500Z",
     "start_time": "2023-10-23T08:16:48.487264900Z"
    }
   },
   "id": "969c5a8c3054dcd5"
  },
  {
   "cell_type": "code",
   "execution_count": 48,
   "outputs": [],
   "source": [
    "def average_price_in_quartiles(input_df):\n",
    "    new_df = input_df.copy()\n",
    "    avg_price_df = new_df.groupby('Quartile')['item_price'].mean().reset_index(drop=True)\n",
    "    return avg_price_df"
   ],
   "metadata": {
    "collapsed": false,
    "ExecuteTime": {
     "end_time": "2023-10-22T21:06:38.813130200Z",
     "start_time": "2023-10-22T21:06:38.795037Z"
    }
   },
   "id": "d7c34ac2f3b2953"
  },
  {
   "cell_type": "code",
   "execution_count": 49,
   "outputs": [
    {
     "data": {
      "text/plain": "0    23.181951\n1     5.869593\n2    11.853084\n3    36.031667\nName: item_price, dtype: float64"
     },
     "execution_count": 49,
     "metadata": {},
     "output_type": "execute_result"
    }
   ],
   "source": [
    "average_price_in_quartiles(food_quartile)"
   ],
   "metadata": {
    "collapsed": false,
    "ExecuteTime": {
     "end_time": "2023-10-22T21:06:40.477572100Z",
     "start_time": "2023-10-22T21:06:40.458842900Z"
    }
   },
   "id": "3a581623e5e41d5d"
  },
  {
   "cell_type": "code",
   "execution_count": 1,
   "outputs": [],
   "source": [
    "def minmaxmean_price_in_quartile(input_df):\n",
    "    new_df = input_df.copy()\n",
    "    result = new_df.groupby('Quartile')['item_price'].agg(['min', 'max', 'mean']).reset_index(drop=True)\n",
    "    result.columns = ['min', 'max', 'mean']\n",
    "    return result"
   ],
   "metadata": {
    "collapsed": false,
    "ExecuteTime": {
     "end_time": "2023-10-23T08:15:52.056857300Z",
     "start_time": "2023-10-23T08:15:52.023077Z"
    }
   },
   "id": "6f43480fc169f1e1"
  },
  {
   "cell_type": "code",
   "execution_count": 8,
   "outputs": [
    {
     "data": {
      "text/plain": "     min    max       mean\n0  21.96  27.75  23.181951\n1   1.09   9.39   5.869593\n2  10.50  18.50  11.853084\n3  32.94  44.25  36.031667",
      "text/html": "<div>\n<style scoped>\n    .dataframe tbody tr th:only-of-type {\n        vertical-align: middle;\n    }\n\n    .dataframe tbody tr th {\n        vertical-align: top;\n    }\n\n    .dataframe thead th {\n        text-align: right;\n    }\n</style>\n<table border=\"1\" class=\"dataframe\">\n  <thead>\n    <tr style=\"text-align: right;\">\n      <th></th>\n      <th>min</th>\n      <th>max</th>\n      <th>mean</th>\n    </tr>\n  </thead>\n  <tbody>\n    <tr>\n      <th>0</th>\n      <td>21.96</td>\n      <td>27.75</td>\n      <td>23.181951</td>\n    </tr>\n    <tr>\n      <th>1</th>\n      <td>1.09</td>\n      <td>9.39</td>\n      <td>5.869593</td>\n    </tr>\n    <tr>\n      <th>2</th>\n      <td>10.50</td>\n      <td>18.50</td>\n      <td>11.853084</td>\n    </tr>\n    <tr>\n      <th>3</th>\n      <td>32.94</td>\n      <td>44.25</td>\n      <td>36.031667</td>\n    </tr>\n  </tbody>\n</table>\n</div>"
     },
     "execution_count": 8,
     "metadata": {},
     "output_type": "execute_result"
    }
   ],
   "source": [
    "minmaxmean_price_in_quartile(food_quartile)"
   ],
   "metadata": {
    "collapsed": false,
    "ExecuteTime": {
     "end_time": "2023-10-23T08:17:14.369301500Z",
     "start_time": "2023-10-23T08:17:14.186534100Z"
    }
   },
   "id": "d201739bc9a95e0e"
  },
  {
   "cell_type": "code",
   "execution_count": 23,
   "outputs": [],
   "source": [
    "def gen_uniform_mean_trajectories(distribution, number_of_trajectories, length_of_trajectory):\n",
    "    random.seed(42)\n",
    "    trajectories = []  # Ebben a listában tároljuk az eredményt\n",
    "\n",
    "    for _ in range(number_of_trajectories):\n",
    "        trajectory = []  # Ebben a listában tároljuk a kumulatív átlagokat\n",
    "        cumulative_sum = 0.0  # Kezdetben a kumulatív átlag nulla\n",
    "\n",
    "        for _ in range(length_of_trajectory):\n",
    "            random_value = distribution.gen_random()  # Véletlen szám a megadott eloszlás alapján\n",
    "            cumulative_sum += random_value  # Frissítjük a kumulatív átlagot\n",
    "            trajectory.append(cumulative_sum)  # Hozzáadjuk a kumulatív átlagot a belső listához\n",
    "\n",
    "        trajectories.append(trajectory)  # Hozzáadjuk a belső listát az eredmény listához\n",
    "\n",
    "    return trajectories"
   ],
   "metadata": {
    "collapsed": false,
    "ExecuteTime": {
     "end_time": "2023-10-23T09:31:49.030491400Z",
     "start_time": "2023-10-23T09:31:48.998906800Z"
    }
   },
   "id": "fbef8cd89323839f"
  },
  {
   "cell_type": "code",
   "execution_count": 21,
   "outputs": [],
   "source": [
    "dist = UniformDistribution(random, 0, 1)"
   ],
   "metadata": {
    "collapsed": false,
    "ExecuteTime": {
     "end_time": "2023-10-23T09:10:31.665039300Z",
     "start_time": "2023-10-23T09:10:31.618170900Z"
    }
   },
   "id": "ec9b913bc685068f"
  },
  {
   "cell_type": "code",
   "execution_count": 24,
   "outputs": [
    {
     "data": {
      "text/plain": "[[0.6394267984578837,\n  0.6644375536805507,\n  0.9394668720496699,\n  1.1626776101984926,\n  1.899148824362505,\n  2.5758483117854163,\n  3.4680278794902617,\n  3.5549667121196777,\n  3.9768885318049483,\n  4.006685751243019,\n  4.225323726046622,\n  4.730679014149985,\n  4.757214983833848,\n  4.956052634520497,\n  5.60593707230002,\n  6.150878552903237,\n  6.371319174943933,\n  6.960584858819842,\n  7.770015315497669,\n  7.776514075175729,\n  8.582333327008538,\n  9.280472721996764,\n  9.620723238514756,\n  9.776202738326537,\n  10.733415810533318,\n  11.070010355645945,\n  11.162756199026093,\n  11.259472575859558,\n  12.106966942207018,\n  12.71069297357391,\n  13.517821246848289,\n  14.247553033542108,\n  14.783781124996809,\n  15.75689688897618,\n  16.135431266184533,\n  16.68747189745776,\n  17.516876561710752,\n  18.135396314075,\n  18.997103214385778,\n  19.57445535964254,\n  20.279027195857463,\n  20.324851579513126,\n  20.552749855164674,\n  20.84213781876678,\n  20.921929795690406,\n  21.154720682051437,\n  21.255722111461164,\n  21.533695714571255,\n  22.169380158835654,\n  22.534212337805737,\n  22.90439330492262,\n  23.113900335694108,\n  23.380878157743222,\n  24.317532745455715,\n  24.96556813070231,\n  25.574699136369297,\n  25.745837784567392,\n  26.474964582517742,\n  26.63836707627967,\n  27.01782251803732,\n  28.007345868673916,\n  28.647345628528008,\n  29.204295372302653,\n  29.888909623292527,\n  30.731761543482335,\n  31.50776145502858,\n  31.736809526992683,\n  31.76890977089672,\n  32.0843628189558,\n  32.35210369493151,\n  32.56308653851784,\n  33.50599625285289,\n  34.38236387932556,\n  34.69704176012404,\n  35.35248042541892,\n  35.748112326479585,\n  36.66265991622013,\n  37.12151176880753,\n  37.38639193530558,\n  37.63301944299957,\n  38.19438757716272,\n  38.45712918568566,\n  39.0417151759092,\n  39.939538059511676,\n  40.338938564652075,\n  40.55825932380936,\n  41.55579693030447,\n  42.06532322398093,\n  42.156232636154726,\n  42.20334901157946,\n  42.31299814193012,\n  42.94044418363321,\n  43.73252354799617,\n  44.154683514795856,\n  44.218211220947815,\n  44.59983050745435,\n  45.59595188769445,\n  46.125066232793586,\n  47.0961446104072,\n  47.956924312641696],\n [0.011481021942819636,\n  0.7322028413030143,\n  1.413913210329589,\n  1.9508835407383842,\n  2.217708730690927,\n  2.858670529270735,\n  2.9702227028666113,\n  3.4049879535357164,\n  3.8587116598649227,\n  4.812527587386003,\n  5.688380527764197,\n  5.951769578515288,\n  6.452355691565586,\n  6.631007572095717,\n  7.543635411440538,\n  8.414153981277305,\n  8.712598772725938,\n  9.351548267591943,\n  9.960518479030116,\n  10.11335774757975,\n  10.875868547654902,\n  11.415247577774528,\n  12.193874056405086,\n  12.724227728600264,\n  12.724799624728208,\n  13.048955681732881,\n  13.068432424118713,\n  13.99753104038333,\n  14.876252918206514,\n  15.707918447567694,\n  16.015432572970354,\n  16.07335773946454,\n  16.951367338668582,\n  17.898316783966578,\n  17.983970236034455,\n  18.46996069935107,\n  18.539173217819453,\n  19.299775383076685,\n  20.065609812383673,\n  20.194001276883437,\n  20.66928365498217,\n  21.219087248477113,\n  21.48414387741717,\n  22.35657691850243,\n  22.77971485870332,\n  22.9915130641454,\n  23.53080915292486,\n  24.260740222014835,\n  24.46189128540453,\n  24.773607576705423,\n  25.76875693336632,\n  26.418634991005774,\n  26.856735074920277,\n  27.374310915955867,\n  27.495315111824134,\n  27.72001244885569,\n  28.058098011003146,\n  28.64640672946038,\n  28.876521462056957,\n  29.096738846508515,\n  29.167731932517547,\n  29.798834889787646,\n  30.0277766735988,\n  30.93319668660493,\n  31.792832086858677,\n  31.863689436747332,\n  32.10169407111633,\n  32.77067184941261,\n  32.98490865678305,\n  33.11722050550807,\n  34.052734746088746,\n  34.62377783941403,\n  35.096448865725826,\n  35.88106829001658,\n  36.68856528778322,\n  36.8789752021451,\n  36.97590601637392,\n  37.4069571987803,\n  37.83053582180022,\n  38.29756048983689,\n  39.02663633929674,\n  39.70000088659005,\n  40.684166097956016,\n  40.782583969107975,\n  41.18520525121024,\n  41.524507856605204,\n  42.386180392957996,\n  42.634836726878284,\n  42.82504563531909,\n  43.273659183152226,\n  43.69554082298663,\n  43.97408596765357,\n  44.22389241553567,\n  45.14715801481169,\n  45.590288759865146,\n  46.451637864626974,\n  47.001963177076824,\n  47.0525515066017,\n  48.05183397501443,\n  48.887861560094386]]"
     },
     "execution_count": 24,
     "metadata": {},
     "output_type": "execute_result"
    }
   ],
   "source": [
    "gen_uniform_mean_trajectories(dist, 2, 100)"
   ],
   "metadata": {
    "collapsed": false,
    "ExecuteTime": {
     "end_time": "2023-10-23T09:31:53.632972800Z",
     "start_time": "2023-10-23T09:31:53.505752500Z"
    }
   },
   "id": "7d01d9642185c1ae"
  },
  {
   "cell_type": "code",
   "execution_count": null,
   "outputs": [],
   "source": [],
   "metadata": {
    "collapsed": false
   },
   "id": "cb3873537667e73"
  }
 ],
 "metadata": {
  "kernelspec": {
   "display_name": "Python 3",
   "language": "python",
   "name": "python3"
  },
  "language_info": {
   "codemirror_mode": {
    "name": "ipython",
    "version": 2
   },
   "file_extension": ".py",
   "mimetype": "text/x-python",
   "name": "python",
   "nbconvert_exporter": "python",
   "pygments_lexer": "ipython2",
   "version": "2.7.6"
  }
 },
 "nbformat": 4,
 "nbformat_minor": 5
}
